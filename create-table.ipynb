{
    "cells": [
        {
            "cell_type": "code",
            "execution_count": 12,
            "metadata": {
                "azdata_cell_guid": "655e3652-6b83-4d30-9a03-94b1080ad6ce",
                "language": "sql",
                "tags": [],
                "vscode": {
                    "languageId": "sql"
                }
            },
            "outputs": [
                {
                    "data": {
                        "text/html": [
                            "NOTICE: table \"tuition\" does not exist, skipping"
                        ]
                    },
                    "metadata": {},
                    "output_type": "display_data"
                },
                {
                    "data": {
                        "text/html": [
                            "DROP TABLE"
                        ]
                    },
                    "metadata": {},
                    "output_type": "display_data"
                },
                {
                    "data": {
                        "text/html": [
                            "Total execution time: 00:00:00.094"
                        ]
                    },
                    "metadata": {},
                    "output_type": "display_data"
                }
            ],
            "source": [
                "--DROP TABLE IF EXISTS graduation, faculty, admission, tuition, loan, institution;\n",
                "-- code to drop table just in case"
            ]
        },
        {
            "cell_type": "code",
            "execution_count": 13,
            "metadata": {
                "azdata_cell_guid": "16648f30-913d-4241-af15-09e403c475bf",
                "language": "sql",
                "vscode": {
                    "languageId": "sql"
                }
            },
            "outputs": [
                {
                    "data": {
                        "text/html": [
                            "CREATE TABLE"
                        ]
                    },
                    "metadata": {},
                    "output_type": "display_data"
                },
                {
                    "data": {
                        "text/html": [
                            "Total execution time: 00:00:00.055"
                        ]
                    },
                    "metadata": {},
                    "output_type": "display_data"
                }
            ],
            "source": [
                "-- table 1\n",
                "\n",
                "CREATE TABLE Institution(\n",
                "    UNITID BIGINT PRIMARY KEY, -- IPEDS UNITID\n",
                "    OPEID BIGINT UNIQUE, -- College Scorecard OPEID\n",
                "    INSTNM VARCHAR(255) NOT NULL, -- Institution Name\n",
                "    ACCREDAGENCY VARCHAR(255), -- Accreditation agency\n",
                "    CONTROL INT CHECK (control IN (1, 2, 3)), -- Control of Institution\n",
                "    REGION INT CHECK (region BETWEEN 0 AND 9), -- Region Code\n",
                "    MAIN BOOLEAN, -- Main Campus Flag\n",
                "    NUMBRANCH INT, -- # of Branch Campuses\n",
                "\n",
                "    PREDDEG INT CHECK (PREDDEG IN (0, 1, 2, 3, 4)), -- Predominant Degree\n",
                "    HIGHDEG INT CHECK (HIGHDEG IN (0, 1, 2, 3, 4)), -- Highest Degree\n",
                "\n",
                "    ZIP VARCHAR(10), -- Zip Code\n",
                "    CITY VARCHAR(30), -- City\n",
                "    ADDR VARCHAR(100), -- Address\n",
                "    LATITUDE DECIMAL, -- Latitude from IPEDS\n",
                "    LONGITUD DECIMAL, -- Longitude from IPEDS\n",
                "\n",
                "    FIPS INT, -- FIPS County Code\n",
                "    CBSA INT, -- Census Based Statistical Area\n",
                "    CBSATYPE INT, -- CBSA Type\n",
                "    CSA INT, --\n",
                "    C21BASIC INT,\n",
                "    C21IPUG INT,\n",
                "    C21IPGRD INT,\n",
                "    C21UGPRF INT,\n",
                "    C21ENPRF INT,\n",
                "    C21SZSET INT,\n",
                "    CREATED_AT DATE,\n",
                "    UPDATED_AT DATE\n",
                ");"
            ]
        },
        {
            "cell_type": "code",
            "execution_count": 14,
            "metadata": {
                "azdata_cell_guid": "4ec74de5-9c8c-4203-b637-749ee2675b7a",
                "language": "sql",
                "vscode": {
                    "languageId": "sql"
                }
            },
            "outputs": [
                {
                    "data": {
                        "text/html": [
                            "CREATE TABLE"
                        ]
                    },
                    "metadata": {},
                    "output_type": "display_data"
                },
                {
                    "data": {
                        "text/html": [
                            "Total execution time: 00:00:00.054"
                        ]
                    },
                    "metadata": {},
                    "output_type": "display_data"
                }
            ],
            "source": [
                "-- table 2\n",
                "\n",
                "CREATE TABLE Loan(\n",
                "    LOAN_ID SERIAL PRIMARY KEY,\n",
                "    OPEID BIGINT,\n",
                "    CDR2 DECIMAL,\n",
                "    CDR3 DECIMAL,\n",
                "    YEAR INT,\n",
                "    DBRR5_FED_UG_RT FLOAT,\n",
                "    FOREIGN KEY (OPEID) REFERENCES Institution(OPEID)\n",
                ")"
            ]
        },
        {
            "cell_type": "code",
            "execution_count": 15,
            "metadata": {
                "azdata_cell_guid": "6a4055cc-ff55-488e-ab7d-4461889be58e",
                "language": "sql",
                "vscode": {
                    "languageId": "sql"
                }
            },
            "outputs": [
                {
                    "data": {
                        "text/html": [
                            "CREATE TABLE"
                        ]
                    },
                    "metadata": {},
                    "output_type": "display_data"
                },
                {
                    "data": {
                        "text/html": [
                            "Total execution time: 00:00:00.043"
                        ]
                    },
                    "metadata": {},
                    "output_type": "display_data"
                }
            ],
            "source": [
                "-- table 3\n",
                "\n",
                "CREATE TABLE Graduation(\n",
                "    GRADUATION_ID SERIAL PRIMARY KEY,\n",
                "    OPEID BIGINT,\n",
                "    YEAR INT,\n",
                "    UGNONDS INT,\n",
                "    GRADS INT,\n",
                "    MD_EARN_WNE_4YR INT,\n",
                "    FOREIGN KEY (OPEID) REFERENCES Institution(OPEID)\n",
                ");"
            ]
        },
        {
            "cell_type": "code",
            "execution_count": 16,
            "metadata": {
                "azdata_cell_guid": "4d7d81e6-480b-48c2-87ff-18cdb31116d6",
                "language": "sql",
                "vscode": {
                    "languageId": "sql"
                }
            },
            "outputs": [
                {
                    "data": {
                        "text/html": [
                            "CREATE TABLE"
                        ]
                    },
                    "metadata": {},
                    "output_type": "display_data"
                },
                {
                    "data": {
                        "text/html": [
                            "Total execution time: 00:00:00.046"
                        ]
                    },
                    "metadata": {},
                    "output_type": "display_data"
                }
            ],
            "source": [
                "-- table 4\n",
                "\n",
                "CREATE TABLE Faculty(\n",
                "    FACULTY_ID SERIAL PRIMARY KEY,\n",
                "    OPEID BIGINT,\n",
                "    YEAR INT,\n",
                "    AVGFACSAL INT,\n",
                "    FOREIGN KEY (OPEID) REFERENCES Institution(OPEID)\n",
                ");"
            ]
        },
        {
            "cell_type": "code",
            "execution_count": 17,
            "metadata": {
                "azdata_cell_guid": "0a4fa29d-f403-4887-8579-9005368db9b9",
                "language": "sql",
                "vscode": {
                    "languageId": "sql"
                }
            },
            "outputs": [
                {
                    "data": {
                        "text/html": [
                            "CREATE TABLE"
                        ]
                    },
                    "metadata": {},
                    "output_type": "display_data"
                },
                {
                    "data": {
                        "text/html": [
                            "Total execution time: 00:00:00.078"
                        ]
                    },
                    "metadata": {},
                    "output_type": "display_data"
                }
            ],
            "source": [
                "-- table 5\n",
                "\n",
                "CREATE TABLE Admission(\n",
                "    ADMISSION_ID SERIAL PRIMARY KEY,\n",
                "    OPEID BIGINT,\n",
                "    YEAR INT,\n",
                "    ADM_RATE FLOAT,\n",
                "    SATVRMID INT,\n",
                "    SATMTMID INT,\n",
                "    SATWRMID INT,\n",
                "    ACTCMMID FLOAT, -- ACT average score, college scorecard\n",
                "    ADMCON7 VARCHAR  --  test score requirements. college scorecard\n",
                "    FOREIGN KEY (OPEID) REFERENCES Institution(OPEID)\n",
                ");\n"
            ]
        },
        {
            "cell_type": "code",
            "execution_count": 20,
            "metadata": {
                "azdata_cell_guid": "473f64b6-d113-4f05-a555-5850e6864bbf",
                "language": "sql",
                "tags": [],
                "vscode": {
                    "languageId": "sql"
                }
            },
            "outputs": [
                {
                    "data": {
                        "text/html": [
                            "CREATE TABLE"
                        ]
                    },
                    "metadata": {},
                    "output_type": "display_data"
                },
                {
                    "data": {
                        "text/html": [
                            "Total execution time: 00:00:00.049"
                        ]
                    },
                    "metadata": {},
                    "output_type": "display_data"
                }
            ],
            "source": [
                "-- table 6\n",
                "\n",
                "CREATE TABLE Tuition(\n",
                "    TUITION_ID SERIAL PRIMARY KEY,\n",
                "    OPEID BIGINT,\n",
                "    YEAR INT,\n",
                "    TUITIONFEE_IN INT, -- In-state tuition\n",
                "    TUITIONFEE_OUT INT, -- Out-of-state tuition\n",
                "    TUITIONFEE_PROG INT, -- tuition and fees for program-based institutions\n",
                "    TUITFTE INT, -- tuition revenue per full time students\n",
                "    COSTT4_A INT, -- ave cost of attendance, academic institutions\n",
                "    COSTT4_P INT, -- ave cost of attendance, program institutions\n",
                "    FOREIGN KEY (OPEID) REFERENCES Institution(OPEID)\n",
                ");"
            ]
        },
        {
            "cell_type": "code",
            "execution_count": 3,
            "metadata": {
                "azdata_cell_guid": "a9a41218-7148-4326-8d51-d0965b80d5ca",
                "language": "sql",
                "vscode": {
                    "languageId": "sql"
                }
            },
            "outputs": [
                {
                    "data": {
                        "text/html": [
                            "(0 row(s) affected)"
                        ]
                    },
                    "metadata": {},
                    "output_type": "display_data"
                },
                {
                    "data": {
                        "text/html": [
                            "Total execution time: 00:00:00.082"
                        ]
                    },
                    "metadata": {},
                    "output_type": "display_data"
                },
                {
                    "data": {
                        "application/vnd.dataresource+json": {
                            "data": [],
                            "schema": {
                                "fields": [
                                    {
                                        "name": "admission_id"
                                    },
                                    {
                                        "name": "opeid"
                                    },
                                    {
                                        "name": "year"
                                    },
                                    {
                                        "name": "adm_rate"
                                    },
                                    {
                                        "name": "satvrmid"
                                    },
                                    {
                                        "name": "satmtmid"
                                    },
                                    {
                                        "name": "satwrmid"
                                    },
                                    {
                                        "name": "actcmmid"
                                    },
                                    {
                                        "name": "admcon7"
                                    }
                                ]
                            }
                        },
                        "text/html": [
                            "<table>\n",
                            "<tr><th>admission_id</th><th>opeid</th><th>year</th><th>adm_rate</th><th>satvrmid</th><th>satmtmid</th><th>satwrmid</th><th>actcmmid</th><th>admcon7</th></tr>\n",
                            "</table>"
                        ]
                    },
                    "execution_count": 3,
                    "metadata": {},
                    "output_type": "execute_result"
                }
            ],
            "source": [
                "select * from admission limit 10;"
            ]
        }
    ],
    "metadata": {
        "kernelspec": {
            "display_name": "base",
            "language": "python",
            "name": "python3"
        },
        "language_info": {
            "name": "python",
            "version": "3.12.4"
        }
    },
    "nbformat": 4,
    "nbformat_minor": 2
}
