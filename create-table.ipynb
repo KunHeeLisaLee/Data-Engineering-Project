{
    "metadata": {
        "kernelspec": {
            "name": "SQL",
            "display_name": "SQL",
            "language": "sql"
        },
        "language_info": {
            "name": "sql",
            "version": ""
        }
    },
    "nbformat_minor": 2,
    "nbformat": 4,
    "cells": [
        {
            "cell_type": "code",
            "source": [
                "-- table 1\n",
                "\n",
                "CREATE TABLE Institution(\n",
                "    UNITID BIGINT PRIMARY KEY, -- IPEDS UNITID\n",
                "    OPEID BIGINT UNIQUE, -- College Scorecard OPEID\n",
                "    INSTNM VARCHAR(255) NOT NULL, -- Institution Name\n",
                "    ACCREDAGENCY VARCHAR(255), -- Accreditation agency\n",
                "    CONTROL INT CHECK (control IN (1, 2, 3)), -- Control of Institution\n",
                "    REGION INT CHECK (region BETWEEN 0 AND 9), -- Region Code\n",
                "    MAIN BOOLEAN, -- Main Campus Flag\n",
                "    NUMBRANCH INT, -- # of Branch Campuses\n",
                "\n",
                "    PREDDEG INT CHECK (PREDDEG IN (0, 1, 2, 3, 4)), -- Predominant Degree\n",
                "    HIGHDEG INT CHECK (HIGHDEG IN (0, 1, 2, 3, 4)), -- Highest Degree\n",
                "\n",
                "    ZIP VARCHAR(10), -- Zip Code\n",
                "    CITY VARCHAR(30), -- City\n",
                "    ADDR VARCHAR(100), -- Address\n",
                "    LATITUDE DECIMAL, -- Latitude from IPEDS\n",
                "    LONGITUD DECIMAL, -- Longitude from IPEDS\n",
                "\n",
                "    FIPS INT, -- FIPS County Code\n",
                "    CBSA INT, -- Census Based Statistical Area\n",
                "    CBSATYPE INT, -- CBSA Type\n",
                "    CSA INT, --\n",
                "    C21BASIC INT,\n",
                "    C21IPUG INT,\n",
                "    C21IPGRD INT,\n",
                "    C21UGPRF INT,\n",
                "    C21ENPRF INT,\n",
                "    C21SZSET INT,\n",
                "    CREATED_AT DATE,\n",
                "    UPDATED_AT DATE\n",
                ");"
            ],
            "metadata": {
                "azdata_cell_guid": "16648f30-913d-4241-af15-09e403c475bf",
                "language": "sql"
            },
            "outputs": [
                {
                    "output_type": "display_data",
                    "data": {
                        "text/html": "CREATE TABLE"
                    },
                    "metadata": {}
                },
                {
                    "output_type": "display_data",
                    "data": {
                        "text/html": "Total execution time: 00:00:00.036"
                    },
                    "metadata": {}
                }
            ],
            "execution_count": 38
        },
        {
            "cell_type": "code",
            "source": [
                "-- table 2\n",
                "\n",
                "CREATE TABLE Loan(\n",
                "    LOAN_ID SERIAL PRIMARY KEY,\n",
                "    OPEID BIGINT,\n",
                "    CDR2 DECIMAL,\n",
                "    CDR3 DECIMAL,\n",
                "    YEAR INT,\n",
                "    FOREIGN KEY (OPEID) REFERENCES Institution(OPEID),\n",
                "    DBRR5_FED_UG_RT FLOAT\n",
                ")"
            ],
            "metadata": {
                "language": "sql",
                "azdata_cell_guid": "4ec74de5-9c8c-4203-b637-749ee2675b7a"
            },
            "outputs": [
                {
                    "output_type": "display_data",
                    "data": {
                        "text/html": "CREATE TABLE"
                    },
                    "metadata": {}
                },
                {
                    "output_type": "display_data",
                    "data": {
                        "text/html": "Total execution time: 00:00:00.034"
                    },
                    "metadata": {}
                }
            ],
            "execution_count": 39
        },
        {
            "cell_type": "code",
            "source": [
                "-- table 3\n",
                "\n",
                "CREATE TABLE Graduation(\n",
                "    GRADUATION_ID SERIAL PRIMARY KEY,\n",
                "    OPEID BIGINT,\n",
                "    YEAR INT,\n",
                "    UGNONDS INT,\n",
                "    GRADS INT,\n",
                "    MD_EARN_WNE_4YR INT,\n",
                "    FOREIGN KEY (OPEID) REFERENCES Institution(OPEID)\n",
                ");"
            ],
            "metadata": {
                "language": "sql",
                "azdata_cell_guid": "6a4055cc-ff55-488e-ab7d-4461889be58e"
            },
            "outputs": [
                {
                    "output_type": "display_data",
                    "data": {
                        "text/html": "CREATE TABLE"
                    },
                    "metadata": {}
                },
                {
                    "output_type": "display_data",
                    "data": {
                        "text/html": "Total execution time: 00:00:00.023"
                    },
                    "metadata": {}
                }
            ],
            "execution_count": 40
        },
        {
            "cell_type": "code",
            "source": [
                "-- table 4\n",
                "\n",
                "CREATE TABLE Faculty(\n",
                "    FACULTY_ID SERIAL PRIMARY KEY,\n",
                "    OPEID BIGINT,\n",
                "    YEAR INT,\n",
                "    AVGFACSAL INT,\n",
                "   FOREIGN KEY (OPEID) REFERENCES Institution(OPEID)\n",
                ");"
            ],
            "metadata": {
                "language": "sql",
                "azdata_cell_guid": "4d7d81e6-480b-48c2-87ff-18cdb31116d6"
            },
            "outputs": [
                {
                    "output_type": "display_data",
                    "data": {
                        "text/html": "CREATE TABLE"
                    },
                    "metadata": {}
                },
                {
                    "output_type": "display_data",
                    "data": {
                        "text/html": "Total execution time: 00:00:00.022"
                    },
                    "metadata": {}
                }
            ],
            "execution_count": 41
        },
        {
            "cell_type": "code",
            "source": [
                "-- table 5\n",
                "\n",
                "CREATE TABLE Admission(\n",
                "    ADMISSION_ID SERIAL PRIMARY KEY,\n",
                "    OPEID BIGINT,\n",
                "    YEAR INT,\n",
                "    ADM_RATE FLOAT, -- TODO type check? admission rate\n",
                "    SATCMMID INT, -- SAT average score, college scorecard\n",
                "    ACTCMMID INT, -- ACT average score, college scorecard\n",
                "    ADMCON7 VARCHAR , --  test score requirements. college scorecard\n",
                "    FOREIGN KEY (OPEID) REFERENCES Institution(OPEID)\n",
                ");\n",
                ""
            ],
            "metadata": {
                "language": "sql",
                "azdata_cell_guid": "0a4fa29d-f403-4887-8579-9005368db9b9"
            },
            "outputs": [
                {
                    "output_type": "display_data",
                    "data": {
                        "text/html": "CREATE TABLE"
                    },
                    "metadata": {}
                },
                {
                    "output_type": "display_data",
                    "data": {
                        "text/html": "Total execution time: 00:00:00.030"
                    },
                    "metadata": {}
                }
            ],
            "execution_count": 42
        },
        {
            "cell_type": "code",
            "source": [
                "-- table 6\n",
                "\n",
                "CREATE TABLE Tuition(\n",
                "    TUITION_ID SERIAL PRIMARY KEY,\n",
                "    OPEID BIGINT,\n",
                "    YEAR INT,\n",
                "    TUITIONFEE_IN INT, -- In-state tuition\n",
                "    TUITIONFEE_OUT INT, -- Out-of-state tuition\n",
                "    TUITIONFEE_PROG INT, -- tuition and fees for program-based institutions\n",
                "    TUITFTE INT, -- tuition revenue per full time students\n",
                "    COSTT4_A INT, -- ave cost of attendance, academic institutions\n",
                "    COSTT4_P INT, -- ave cost of attendance, program institutions\n",
                "    FOREIGN KEY (opeid) REFERENCES Institution(opeid)\n",
                ");"
            ],
            "metadata": {
                "language": "sql",
                "azdata_cell_guid": "473f64b6-d113-4f05-a555-5850e6864bbf"
            },
            "outputs": [
                {
                    "output_type": "display_data",
                    "data": {
                        "text/html": "CREATE TABLE"
                    },
                    "metadata": {}
                },
                {
                    "output_type": "display_data",
                    "data": {
                        "text/html": "Total execution time: 00:00:00.021"
                    },
                    "metadata": {}
                }
            ],
            "execution_count": 43
        },
        {
            "cell_type": "code",
            "source": [
                " --DROP TABLE IF EXISTS graduation, faculty, admission, tuition, loan, institution;\n",
                "-- code to drop table just in case"
            ],
            "metadata": {
                "language": "sql",
                "azdata_cell_guid": "655e3652-6b83-4d30-9a03-94b1080ad6ce"
            },
            "outputs": [
                {
                    "output_type": "display_data",
                    "data": {
                        "text/html": "DROP TABLE"
                    },
                    "metadata": {}
                },
                {
                    "output_type": "display_data",
                    "data": {
                        "text/html": "Total execution time: 00:00:00.032"
                    },
                    "metadata": {}
                }
            ],
            "execution_count": 37
        },
        {
            "cell_type": "code",
            "source": [
                "select * from loan limit 10;"
            ],
            "metadata": {
                "language": "sql",
                "azdata_cell_guid": "a9a41218-7148-4326-8d51-d0965b80d5ca"
            },
            "outputs": [
                {
                    "output_type": "display_data",
                    "data": {
                        "text/html": "(10 row(s) affected)"
                    },
                    "metadata": {}
                },
                {
                    "output_type": "display_data",
                    "data": {
                        "text/html": "Total execution time: 00:00:00.042"
                    },
                    "metadata": {}
                },
                {
                    "output_type": "execute_result",
                    "metadata": {},
                    "execution_count": 44,
                    "data": {
                        "application/vnd.dataresource+json": {
                            "schema": {
                                "fields": [
                                    {
                                        "name": "loan_id"
                                    },
                                    {
                                        "name": "opeid"
                                    },
                                    {
                                        "name": "cdr2"
                                    },
                                    {
                                        "name": "cdr3"
                                    },
                                    {
                                        "name": "year"
                                    },
                                    {
                                        "name": "dbrr5_fed_ug_rt"
                                    }
                                ]
                            },
                            "data": [
                                {
                                    "loan_id": "1",
                                    "opeid": "100200",
                                    "cdr2": "NULL",
                                    "cdr3": "NULL",
                                    "year": "NULL",
                                    "dbrr5_fed_ug_rt": "NULL"
                                },
                                {
                                    "loan_id": "2",
                                    "opeid": "105200",
                                    "cdr2": "NULL",
                                    "cdr3": "NULL",
                                    "year": "NULL",
                                    "dbrr5_fed_ug_rt": "NULL"
                                },
                                {
                                    "loan_id": "3",
                                    "opeid": "2503400",
                                    "cdr2": "NULL",
                                    "cdr3": "NULL",
                                    "year": "NULL",
                                    "dbrr5_fed_ug_rt": "NULL"
                                },
                                {
                                    "loan_id": "4",
                                    "opeid": "105500",
                                    "cdr2": "NULL",
                                    "cdr3": "NULL",
                                    "year": "NULL",
                                    "dbrr5_fed_ug_rt": "NULL"
                                },
                                {
                                    "loan_id": "5",
                                    "opeid": "100500",
                                    "cdr2": "NULL",
                                    "cdr3": "NULL",
                                    "year": "NULL",
                                    "dbrr5_fed_ug_rt": "NULL"
                                },
                                {
                                    "loan_id": "6",
                                    "opeid": "800400",
                                    "cdr2": "NULL",
                                    "cdr3": "NULL",
                                    "year": "NULL",
                                    "dbrr5_fed_ug_rt": "NULL"
                                },
                                {
                                    "loan_id": "7",
                                    "opeid": "105100",
                                    "cdr2": "NULL",
                                    "cdr3": "NULL",
                                    "year": "NULL",
                                    "dbrr5_fed_ug_rt": "NULL"
                                },
                                {
                                    "loan_id": "8",
                                    "opeid": "100700",
                                    "cdr2": "NULL",
                                    "cdr3": "NULL",
                                    "year": "NULL",
                                    "dbrr5_fed_ug_rt": "NULL"
                                },
                                {
                                    "loan_id": "9",
                                    "opeid": "100800",
                                    "cdr2": "NULL",
                                    "cdr3": "NULL",
                                    "year": "NULL",
                                    "dbrr5_fed_ug_rt": "NULL"
                                },
                                {
                                    "loan_id": "10",
                                    "opeid": "831000",
                                    "cdr2": "NULL",
                                    "cdr3": "NULL",
                                    "year": "NULL",
                                    "dbrr5_fed_ug_rt": "NULL"
                                }
                            ]
                        },
                        "text/html": [
                            "<table>",
                            "<tr><th>loan_id</th><th>opeid</th><th>cdr2</th><th>cdr3</th><th>year</th><th>dbrr5_fed_ug_rt</th></tr>",
                            "<tr><td>1</td><td>100200</td><td>NULL</td><td>NULL</td><td>NULL</td><td>NULL</td></tr>",
                            "<tr><td>2</td><td>105200</td><td>NULL</td><td>NULL</td><td>NULL</td><td>NULL</td></tr>",
                            "<tr><td>3</td><td>2503400</td><td>NULL</td><td>NULL</td><td>NULL</td><td>NULL</td></tr>",
                            "<tr><td>4</td><td>105500</td><td>NULL</td><td>NULL</td><td>NULL</td><td>NULL</td></tr>",
                            "<tr><td>5</td><td>100500</td><td>NULL</td><td>NULL</td><td>NULL</td><td>NULL</td></tr>",
                            "<tr><td>6</td><td>800400</td><td>NULL</td><td>NULL</td><td>NULL</td><td>NULL</td></tr>",
                            "<tr><td>7</td><td>105100</td><td>NULL</td><td>NULL</td><td>NULL</td><td>NULL</td></tr>",
                            "<tr><td>8</td><td>100700</td><td>NULL</td><td>NULL</td><td>NULL</td><td>NULL</td></tr>",
                            "<tr><td>9</td><td>100800</td><td>NULL</td><td>NULL</td><td>NULL</td><td>NULL</td></tr>",
                            "<tr><td>10</td><td>831000</td><td>NULL</td><td>NULL</td><td>NULL</td><td>NULL</td></tr>",
                            "</table>"
                        ]
                    }
                }
            ],
            "execution_count": 44
        }
    ]
}