{
    "metadata": {
        "kernelspec": {
            "name": "SQL",
            "display_name": "SQL",
            "language": "sql"
        },
        "language_info": {
            "name": "sql",
            "version": ""
        }
    },
    "nbformat_minor": 2,
    "nbformat": 4,
    "cells": [
        {
            "cell_type": "code",
            "source": [
                "--DROP TABLE IF EXISTS graduation, faculty, admission, tuition, loan, institution;\n",
                "-- code to drop table just in case"
            ],
            "metadata": {
                "azdata_cell_guid": "655e3652-6b83-4d30-9a03-94b1080ad6ce",
                "language": "sql",
                "tags": []
            },
            "outputs": [
                {
                    "output_type": "display_data",
                    "data": {
                        "text/html": "NOTICE: table \"tuition\" does not exist, skipping"
                    },
                    "metadata": {}
                },
                {
                    "output_type": "display_data",
                    "data": {
                        "text/html": "DROP TABLE"
                    },
                    "metadata": {}
                },
                {
                    "output_type": "display_data",
                    "data": {
                        "text/html": "Total execution time: 00:00:00.094"
                    },
                    "metadata": {}
                }
            ],
            "execution_count": 12
        },
        {
            "cell_type": "code",
            "source": [
                "-- table 1\n",
                "\n",
                "CREATE TABLE Institution(\n",
                "    UNITID BIGINT PRIMARY KEY, -- IPEDS UNITID\n",
                "    OPEID BIGINT UNIQUE, -- College Scorecard OPEID\n",
                "    INSTNM VARCHAR(255) NOT NULL, -- Institution Name\n",
                "    ACCREDAGENCY VARCHAR(255), -- Accreditation agency\n",
                "    CONTROL INT CHECK (control IN (1, 2, 3)), -- Control of Institution\n",
                "    REGION INT CHECK (region BETWEEN 0 AND 9), -- Region Code\n",
                "    MAIN BOOLEAN, -- Main Campus Flag\n",
                "    NUMBRANCH INT, -- # of Branch Campuses\n",
                "\n",
                "    PREDDEG INT CHECK (PREDDEG IN (0, 1, 2, 3, 4)), -- Predominant Degree\n",
                "    HIGHDEG INT CHECK (HIGHDEG IN (0, 1, 2, 3, 4)), -- Highest Degree\n",
                "\n",
                "    ZIP VARCHAR(10), -- Zip Code\n",
                "    CITY VARCHAR(30), -- City\n",
                "    ADDR VARCHAR(100), -- Address\n",
                "    LATITUDE DECIMAL, -- Latitude from IPEDS\n",
                "    LONGITUD DECIMAL, -- Longitude from IPEDS\n",
                "\n",
                "    FIPS INT, -- FIPS County Code\n",
                "    CBSA INT, -- Census Based Statistical Area\n",
                "    CBSATYPE INT, -- CBSA Type\n",
                "    CSA INT, --\n",
                "    C21BASIC INT,\n",
                "    C21IPUG INT,\n",
                "    C21IPGRD INT,\n",
                "    C21UGPRF INT,\n",
                "    C21ENPRF INT,\n",
                "    C21SZSET INT,\n",
                "    CREATED_AT DATE,\n",
                "    UPDATED_AT DATE\n",
                ");"
            ],
            "metadata": {
                "azdata_cell_guid": "16648f30-913d-4241-af15-09e403c475bf",
                "language": "sql"
            },
            "outputs": [
                {
                    "output_type": "display_data",
                    "data": {
                        "text/html": "CREATE TABLE"
                    },
                    "metadata": {}
                },
                {
                    "output_type": "display_data",
                    "data": {
                        "text/html": "Total execution time: 00:00:00.055"
                    },
                    "metadata": {}
                }
            ],
            "execution_count": 13
        },
        {
            "cell_type": "code",
            "source": [
                "-- table 2\n",
                "\n",
                "CREATE TABLE Loan(\n",
                "    LOAN_ID SERIAL PRIMARY KEY,\n",
                "    OPEID BIGINT,\n",
                "    CDR2 DECIMAL,\n",
                "    CDR3 DECIMAL,\n",
                "    YEAR INT,\n",
                "    DBRR5_FED_UG_RT FLOAT,\n",
                "    FOREIGN KEY (OPEID) REFERENCES Institution(OPEID)\n",
                ")"
            ],
            "metadata": {
                "azdata_cell_guid": "4ec74de5-9c8c-4203-b637-749ee2675b7a",
                "language": "sql"
            },
            "outputs": [
                {
                    "output_type": "display_data",
                    "data": {
                        "text/html": "CREATE TABLE"
                    },
                    "metadata": {}
                },
                {
                    "output_type": "display_data",
                    "data": {
                        "text/html": "Total execution time: 00:00:00.054"
                    },
                    "metadata": {}
                }
            ],
            "execution_count": 14
        },
        {
            "cell_type": "code",
            "source": [
                "-- table 3\n",
                "\n",
                "CREATE TABLE Graduation(\n",
                "    GRADUATION_ID SERIAL PRIMARY KEY,\n",
                "    OPEID BIGINT,\n",
                "    YEAR INT,\n",
                "    UGNONDS INT,\n",
                "    GRADS INT,\n",
                "    MD_EARN_WNE_4YR INT,\n",
                "    FOREIGN KEY (OPEID) REFERENCES Institution(OPEID)\n",
                ");"
            ],
            "metadata": {
                "azdata_cell_guid": "6a4055cc-ff55-488e-ab7d-4461889be58e",
                "language": "sql"
            },
            "outputs": [
                {
                    "output_type": "display_data",
                    "data": {
                        "text/html": "CREATE TABLE"
                    },
                    "metadata": {}
                },
                {
                    "output_type": "display_data",
                    "data": {
                        "text/html": "Total execution time: 00:00:00.043"
                    },
                    "metadata": {}
                }
            ],
            "execution_count": 15
        },
        {
            "cell_type": "code",
            "source": [
                "-- table 4\n",
                "\n",
                "CREATE TABLE Faculty(\n",
                "    FACULTY_ID SERIAL PRIMARY KEY,\n",
                "    OPEID BIGINT,\n",
                "    YEAR INT,\n",
                "    AVGFACSAL INT,\n",
                "    FOREIGN KEY (OPEID) REFERENCES Institution(OPEID)\n",
                ");"
            ],
            "metadata": {
                "azdata_cell_guid": "4d7d81e6-480b-48c2-87ff-18cdb31116d6",
                "language": "sql"
            },
            "outputs": [
                {
                    "output_type": "display_data",
                    "data": {
                        "text/html": "CREATE TABLE"
                    },
                    "metadata": {}
                },
                {
                    "output_type": "display_data",
                    "data": {
                        "text/html": "Total execution time: 00:00:00.046"
                    },
                    "metadata": {}
                }
            ],
            "execution_count": 16
        },
        {
            "cell_type": "code",
            "source": [
                "-- table 5\n",
                "\n",
                "CREATE TABLE Admission(\n",
                "    ADMISSION_ID SERIAL PRIMARY KEY,\n",
                "    OPEID BIGINT,\n",
                "    YEAR INT,\n",
                "    ADM_RATE FLOAT, -- TODO type check? admission rate\n",
                "    SATVRMID INT,\n",
                "    SATMTMID INT,\n",
                "    SATWRMID INT,\n",
                "    ACTCMMID FLOAT, -- ACT average score, college scorecard\n",
                "    ADMCON7 VARCHAR  --  test score requirements. college scorecard\n",
                ");\n"
            ],
            "metadata": {
                "azdata_cell_guid": "0a4fa29d-f403-4887-8579-9005368db9b9",
                "language": "sql"
            },
            "outputs": [
                {
                    "output_type": "display_data",
                    "data": {
                        "text/html": "CREATE TABLE"
                    },
                    "metadata": {}
                },
                {
                    "output_type": "display_data",
                    "data": {
                        "text/html": "Total execution time: 00:00:00.078"
                    },
                    "metadata": {}
                }
            ],
            "execution_count": 17
        },
        {
            "cell_type": "code",
            "source": [
                "-- table 6\n",
                "\n",
                "CREATE TABLE Tuition(\n",
                "    TUITION_ID SERIAL PRIMARY KEY,\n",
                "    OPEID BIGINT,\n",
                "    YEAR INT,\n",
                "    TUITIONFEE_IN INT, -- In-state tuition\n",
                "    TUITIONFEE_OUT INT, -- Out-of-state tuition\n",
                "    TUITIONFEE_PROG INT, -- tuition and fees for program-based institutions\n",
                "    TUITFTE INT, -- tuition revenue per full time students\n",
                "    COSTT4_A INT, -- ave cost of attendance, academic institutions\n",
                "    COSTT4_P INT, -- ave cost of attendance, program institutions\n",
                "    FOREIGN KEY (OPEID) REFERENCES Institution(OPEID)\n",
                ");"
            ],
            "metadata": {
                "azdata_cell_guid": "473f64b6-d113-4f05-a555-5850e6864bbf",
                "language": "sql",
                "tags": []
            },
            "outputs": [
                {
                    "output_type": "display_data",
                    "data": {
                        "text/html": "CREATE TABLE"
                    },
                    "metadata": {}
                },
                {
                    "output_type": "display_data",
                    "data": {
                        "text/html": "Total execution time: 00:00:00.049"
                    },
                    "metadata": {}
                }
            ],
            "execution_count": 20
        },
        {
            "cell_type": "code",
            "source": [
                "select * from loan limit 10;"
            ],
            "metadata": {
                "azdata_cell_guid": "a9a41218-7148-4326-8d51-d0965b80d5ca",
                "language": "sql"
            },
            "outputs": [
                {
                    "output_type": "display_data",
                    "data": {
                        "text/html": "(0 row(s) affected)"
                    },
                    "metadata": {}
                },
                {
                    "output_type": "display_data",
                    "data": {
                        "text/html": "Total execution time: 00:00:00.075"
                    },
                    "metadata": {}
                },
                {
                    "output_type": "execute_result",
                    "metadata": {},
                    "execution_count": 21,
                    "data": {
                        "application/vnd.dataresource+json": {
                            "schema": {
                                "fields": [
                                    {
                                        "name": "loan_id"
                                    },
                                    {
                                        "name": "opeid"
                                    },
                                    {
                                        "name": "cdr2"
                                    },
                                    {
                                        "name": "cdr3"
                                    },
                                    {
                                        "name": "year"
                                    },
                                    {
                                        "name": "dbrr5_fed_ug_rt"
                                    }
                                ]
                            },
                            "data": []
                        },
                        "text/html": [
                            "<table>",
                            "<tr><th>loan_id</th><th>opeid</th><th>cdr2</th><th>cdr3</th><th>year</th><th>dbrr5_fed_ug_rt</th></tr>",
                            "</table>"
                        ]
                    }
                }
            ],
            "execution_count": 21
        }
    ]
}